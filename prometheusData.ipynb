{
 "cells": [
  {
   "cell_type": "code",
   "execution_count": null,
   "id": "628712b4-07b0-4593-a85a-62f51dca3cc2",
   "metadata": {},
   "outputs": [],
   "source": [
    "import pandas as pd\n",
    "import plotly.express as px\n",
    "import dataframeLoader as dfl\n",
    "\n",
    "pd.set_option('display.max_columns', 500)\n",
    "pd.set_option('display.width', 1000)\n",
    "appliance_id = '37286f5a-9f8d-4f05-829a-2e9a8f25c5e4'\n",
    "\n",
    "def filterbyApplianceId(dfv, appId):\n",
    "    dfv = dfv.loc[dfv['appliance_id'] == appId]\n",
    "    dfv['ts']=pd.to_datetime(dfv['ts'],unit='s')\n",
    "\n",
    "    return dfv\n",
    "\n",
    "df1 = filterbyApplianceId(dfl.loadDataFrameFromFileRegex('dataDir', 'securiti_appliance_cpu_used-max*.csv', metrics='cpu-max'), appliance_id)\n",
    "df2 = filterbyApplianceId(dfl.loadDataFrameFromFileRegex('dataDir', 'securiti_appliance_cpu_used-avg*.csv', metrics='cpu-avg'), appliance_id)\n",
    "df3 = filterbyApplianceId(dfl.loadDataFrameFromFileRegex('dataDir', 'securiti_appliance_memory_used-max*.csv', metrics='memory-max'), appliance_id)\n",
    "df4 = filterbyApplianceId(dfl.loadDataFrameFromFileRegex('dataDir', 'securiti_appliance_memory_used-avg*.csv', metrics='memory-avg'), appliance_id)\n",
    "df5 = filterbyApplianceId(dfl.loadDataFrameFromFileRegex('dataDir', 'securiti_appliance_download_workers_count-avg*.csv', metrics='dw-avg'), appliance_id)\n",
    "df6 = filterbyApplianceId(dfl.loadDataFrameFromFileRegex('dataDir', 'securiti_appliance_download_workers_count-max*.csv', metrics='dw-max'), appliance_id)\n",
    "\n",
    "df7 = filterbyApplianceId(dfl.loadDataFrameFromFileRegex('dataDir', 'securiti_appliance_task_queue_length-avg*.csv', metrics='taskq-avg'), appliance_id)\n",
    "df8 = filterbyApplianceId(dfl.loadDataFrameFromFileRegex('dataDir', 'securiti_appliance_task_queue_length-max*.csv', metrics='taskq-max'), appliance_id)\n",
    "df7.loc[df7['metrics_name'].str.contains('securiti-appliance-downloader-tasks-queue', regex=False), 'metrics'] = 'taskq-avg'\n",
    "df7.loc[df7['metrics_name'].str.contains('t-appliance-downloader-tasks-queue', regex=False), 'metrics'] = 'downloadq-avg'\n",
    "df8.loc[df8['metrics_name'].str.contains('securiti-appliance-downloader-tasks-queue', regex=False), 'metrics'] = 'taskq-max'\n",
    "df8.loc[df8['metrics_name'].str.contains('t-appliance-downloader-tasks-queue', regex=False), 'metrics'] = 'downloadq-max'\n",
    "\n",
    "df9 = dfl.loadDataFrameFromFileRegex('dataDir', 'UNSTRUCTURED-*.csv', metrics='dataScanned')\n",
    "df9.rename(columns={'pod':'appliance_id'}, inplace=True)\n",
    "df9 = df9.loc[df9['appliance_id'] == appliance_id]\n",
    "df9['node_ip']=\"master\"\n",
    "# df = df.groupby(['tenant','domain', 'scan-id']).agg(first=('timestamp', 'min'),last=('timestamp', 'max')).reset_index()\n",
    "df9=df9.groupby(['appliance_id', 'ts', 'node_ip', 'metrics']).agg(value=('dataScannedInGB', 'sum')).reset_index()\n",
    "df9['ts']=pd.to_datetime(df9['ts'],unit='ms')\n",
    "\n",
    "\n",
    "df = pd.concat([df1, df2, df3, df4, df5, df6, df7, df8, df9])\n",
    "df['node_ip']=df['node_ip'].fillna(\"master\")\n",
    "df = df.pivot_table(index=['appliance_id','ts', 'node_ip'], columns='metrics', values=['value'], aggfunc=('max', 'mean')).reset_index()\n",
    "df.columns = [' '.join(col).strip() for col in df.columns.values]\n",
    "\n",
    "df = df[['appliance_id','ts', 'node_ip', 'value max cpu-max', 'value mean cpu-avg', 'value max memory-max', 'value mean memory-avg', 'value max dataScanned',  \\\n",
    "           'value max dw-max', 'value mean dw-avg', 'value max taskq-max', 'value mean taskq-avg', 'value max downloadq-max', 'value mean downloadq-avg']]\n",
    "\n",
    "df.rename(columns={'value max cpu-max': 'cpu-max', 'value mean cpu-avg': 'cpu-avg', 'value max memory-max':'memory-max',\\\n",
    "                    'value mean memory-avg':'memory-avg', 'value max dw-max':'dw-max','value mean dw-avg':'dw-avg'\\\n",
    "                   , 'value max taskq-max': 'taskq-max', 'value mean taskq-avg': 'taskq-avg', 'value max downloadq-max':'downloadq-max', \\\n",
    "                    'value mean downloadq-avg': 'downloadq-avg', 'value max dataScanned': 'dataScannedInGB'}, inplace=True)\n",
    "\n",
    "\n",
    "display(df)\n"
   ]
  },
  {
   "cell_type": "code",
   "execution_count": null,
   "id": "2095ad35-98bb-445c-bce7-6264b009960b",
   "metadata": {},
   "outputs": [],
   "source": [
    "dfy = df[(df['ts'] >= min(df1['ts'])) & (df['ts'] <= max(df1['ts']))]\n",
    "ttle_str='scan performace for appliance_id: '+ min(df1['appliance_id']) + ' between dates ' + str(min(df1['ts'])) +' - '+ str(max(df1['ts']))\n",
    "dfx = pd.melt(dfy, id_vars=['appliance_id','ts', 'node_ip'], var_name='metrics', value_name='value')\n",
    "fig = px.line(dfx, x=\"ts\", y=\"value\", color='node_ip', facet_row='metrics', height=2000, title=ttle_str, facet_row_spacing=0.005)\n",
    "fig = fig.update_yaxes(matches=None)\n",
    "\n",
    "fig.show()\n",
    "# for i in df2['metrics'].unique():\n",
    "#     print(i)\n",
    "#     fig = px.line(df2.loc[df2['metrics'].isin([i])], x=\"ts\", y=\"value\", color='node_ip')\n",
    "#     fig.show()"
   ]
  }
 ],
 "metadata": {
  "kernelspec": {
   "display_name": "Python 3 (ipykernel)",
   "language": "python",
   "name": "python3"
  },
  "language_info": {
   "codemirror_mode": {
    "name": "ipython",
    "version": 3
   },
   "file_extension": ".py",
   "mimetype": "text/x-python",
   "name": "python",
   "nbconvert_exporter": "python",
   "pygments_lexer": "ipython3",
   "version": "3.12.4"
  }
 },
 "nbformat": 4,
 "nbformat_minor": 5
}
