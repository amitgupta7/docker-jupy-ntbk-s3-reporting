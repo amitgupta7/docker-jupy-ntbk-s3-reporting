{
 "cells": [
  {
   "cell_type": "code",
   "execution_count": null,
   "metadata": {},
   "outputs": [],
   "source": [
    "## Load Dataframe\n",
    "import pandas as pd\n",
    "import os\n",
    "\n",
    "df_arr = []\n",
    "root = \".dataDir\"\n",
    "for path, subdirs, files in os.walk(root):\n",
    "    for name in files:\n",
    "        df = pd.read_csv(os.path.join(path, name))\n",
    "        df_arr.append(df)\n",
    "\n",
    "df_cons = pd.concat(df_arr, ignore_index=True)\n",
    "df_cons.head()"
   ]
  },
  {
   "cell_type": "code",
   "execution_count": null,
   "metadata": {},
   "outputs": [],
   "source": [
    "## Run Aggregations\n",
    "df = df_cons.groupby(['ds','tenant','pod']).agg({'dataScannedInGB': 'sum', 'processingTimeinHrs':'sum'})\n",
    "df['AvgDataInGBperdayByDw']=df.dataScannedInGB*24/df.processingTimeinHrs\n",
    "df = df.add_suffix('_Count').reset_index()\n",
    "df.describe(percentiles=[0.25, 0.75])"
   ]
  },
  {
   "cell_type": "code",
   "execution_count": null,
   "metadata": {},
   "outputs": [],
   "source": [
    "## Create Plots\n",
    "import plotly.express as px\n",
    "fig = px.box(df, x='ds', y='AvgDataInGBperdayByDw_Count', color='ds', points=False, log_y=True)\n",
    "fig.update_layout(\n",
    "    font=dict(family=\"Didact Gothic\"),\n",
    "    yaxis_title=\"<b>GB/day/dw<b>\",\n",
    "    xaxis_title=\"<b>fileFormat<b>\",\n",
    "    title_x=0.5,\n",
    "    title_font=dict(size=24,color='black'),\n",
    "    plot_bgcolor='rgba(0, 0, 0, 0)', #'white',  \n",
    "    paper_bgcolor='rgba(0, 0, 0, 0)', #'white',\n",
    "    width=1200,  \n",
    "    height=900\n",
    ")\n",
    "fig.update_traces(quartilemethod=\"exclusive\")\n",
    "fig.update_yaxes(nticks=10, minor=dict(showgrid=True, gridwidth=2, gridcolor='Black'))\n",
    "fig.show()"
   ]
  }
 ],
 "metadata": {
  "kernelspec": {
   "display_name": "Python 3 (ipykernel)",
   "language": "python",
   "name": "python3"
  },
  "language_info": {
   "codemirror_mode": {
    "name": "ipython",
    "version": 3
   },
   "file_extension": ".py",
   "mimetype": "text/x-python",
   "name": "python",
   "nbconvert_exporter": "python",
   "pygments_lexer": "ipython3",
   "version": "3.11.9"
  }
 },
 "nbformat": 4,
 "nbformat_minor": 4
}
