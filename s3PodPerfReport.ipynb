{
 "cells": [
  {
   "cell_type": "code",
   "execution_count": 1,
   "metadata": {},
   "outputs": [],
   "source": [
    "## Load Dataframe\n",
    "import pandas as pd\n",
    "import warnings\n",
    "import fnmatch\n",
    "import os\n",
    "\n",
    "pd.set_option('future.no_silent_downcasting', True)\n",
    "root = \".dataDir\"\n",
    "\n",
    "## Method to pivot state information for dsr-ticket/assessment-id\n",
    "def aggregate_states(df, id_col):\n",
    "    df['id'] = df['env']+\"_\"+df['tenant']+\"_\"+df[id_col].astype(str)\n",
    "    df = df.drop('tenant', axis=1)\n",
    "    df = df.drop(id_col, axis=1)\n",
    "    df = df.groupby(['id','action']).agg({'timestamp': \"max\"}).reset_index()\n",
    "    df.sort_values(by=\"id\", ascending=True, inplace=True)\n",
    "    df = df.pivot(index=['id'], columns='action', values='timestamp').reset_index()\n",
    "    return df\n",
    "\n",
    "def loadDataFrameFromFileRegex(root, regex):\n",
    "    df_arr = []\n",
    "    for path, subdirs, files in os.walk(root):\n",
    "        for name in files:\n",
    "            if fnmatch.fnmatch(name, regex):\n",
    "                df = pd.read_csv(os.path.join(path, name))\n",
    "                df['env']  = getFirstLevelDirName(root, path)\n",
    "                df_arr.append(df)\n",
    "    if not df_arr:\n",
    "        warnings.warn(\"No matching file found in \"+root+\" for regex: \"+regex+\". Empty dataframe will be returned.\" )\n",
    "        return pd.DataFrame()    \n",
    "    with warnings.catch_warnings():\n",
    "        warnings.filterwarnings(\"ignore\", category=FutureWarning)      \n",
    "        return pd.concat(df_arr, ignore_index=True)\n",
    "\n",
    "def getFirstLevelDirName(root, path):\n",
    "    start = path.find(root)+len(root)+1\n",
    "    end = path.find(\"/\", start)\n",
    "    return path[start: end]\n",
    "\n",
    "df_unstruc = loadDataFrameFromFileRegex(root, 'UNSTRUCTURED-*.csv')\n",
    "df_struc = loadDataFrameFromFileRegex(root, 'STRUCTURED-*.csv')\n",
    "df_dsr = aggregate_states(loadDataFrameFromFileRegex(root, 'DSR-*.csv'), 'dsr_ticket')\n",
    "df_assmt = aggregate_states(loadDataFrameFromFileRegex(root, 'ASSESSMENT-*.csv'), 'assessment_id')\n"
   ]
  },
  {
   "cell_type": "code",
   "execution_count": null,
   "metadata": {},
   "outputs": [],
   "source": [
    "display(df_dsr[df_dsr['id'].str.contains('chipot')])\n",
    "display(df_unstruc[df_unstruc['tenant'].str.contains('exl')])"
   ]
  },
  {
   "cell_type": "code",
   "execution_count": null,
   "metadata": {},
   "outputs": [],
   "source": [
    "## Run Aggregations\n",
    "df = df_unstruc.groupby(['ds','tenant','pod']).agg({'dataScannedInGB': 'sum', 'processingTimeinHrs':'sum'})\n",
    "df['AvgDataInGBperdayByDw']=df.dataScannedInGB*24/df.processingTimeinHrs\n",
    "df = df.add_suffix('_Count').reset_index()\n",
    "df.describe(percentiles=[0.25, 0.75, 0.90])"
   ]
  },
  {
   "cell_type": "code",
   "execution_count": null,
   "metadata": {},
   "outputs": [],
   "source": [
    "## Create Plots\n",
    "import plotly.express as px\n",
    "fig = px.box(df, x='ds', y='AvgDataInGBperdayByDw_Count', color='ds', points=False, log_y=True)\n",
    "fig.update_layout(\n",
    "    font=dict(family=\"Didact Gothic\"),\n",
    "    yaxis_title=\"<b>GB/day/dw<b>\",\n",
    "    xaxis_title=\"<b>fileFormat<b>\",\n",
    "    title_x=0.5,\n",
    "    title_font=dict(size=24,color='black'),\n",
    "    plot_bgcolor='rgba(0, 0, 0, 0)', #'white',  \n",
    "    paper_bgcolor='rgba(0, 0, 0, 0)', #'white',\n",
    "    width=1200,  \n",
    "    height=900\n",
    ")\n",
    "fig.update_traces(quartilemethod=\"exclusive\")\n",
    "fig.update_yaxes(nticks=10, minor=dict(showgrid=True, gridwidth=2, gridcolor='Black'))\n",
    "fig.show()"
   ]
  }
 ],
 "metadata": {
  "kernelspec": {
   "display_name": "Python 3 (ipykernel)",
   "language": "python",
   "name": "python3"
  },
  "language_info": {
   "codemirror_mode": {
    "name": "ipython",
    "version": 3
   },
   "file_extension": ".py",
   "mimetype": "text/x-python",
   "name": "python",
   "nbconvert_exporter": "python",
   "pygments_lexer": "ipython3",
   "version": "3.11.9"
  }
 },
 "nbformat": 4,
 "nbformat_minor": 4
}
