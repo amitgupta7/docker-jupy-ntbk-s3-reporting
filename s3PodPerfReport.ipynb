{
 "cells": [
  {
   "cell_type": "code",
   "execution_count": null,
   "metadata": {},
   "outputs": [],
   "source": [
    "## Load Dataframe\n",
    "import pandas as pd\n",
    "pd.options.mode.chained_assignment = None\n",
    "import os\n",
    "\n",
    "df_arr = []\n",
    "root = \".dataDir\"\n",
    "for path, subdirs, files in os.walk(root):\n",
    "    for name in files:\n",
    "        df = pd.read_csv(os.path.join(path, name))\n",
    "        df_arr.append(df)\n",
    "\n",
    "df_cons = pd.concat(df_arr, ignore_index=True)\n",
    "display(df_cons)"
   ]
  },
  {
   "cell_type": "code",
   "execution_count": null,
   "metadata": {},
   "outputs": [],
   "source": [
    "## create tenant specific timeseriesplots\n",
    "import plotly.express as px\n",
    "customer_name='exl'\n",
    "df = df_cons.groupby(['ts', 'tenant']).agg({'dataScannedInGB': 'sum', 'processingTimeinHrs':'sum', 'numberOfFilesScanned':'sum', 'IdleTimeInHrs':'sum', 'uniqPodCount':'mean'})\n",
    "df = df.add_suffix('_Count').reset_index()\n",
    "df_tenn = df[df['tenant'].str.contains(customer_name, regex=False)]\n",
    "df_tenn['ts'] = pd.to_datetime(df_tenn['ts'],unit='ms')\n",
    "df_tenn['numberOfFilesScanned_Count'] = (df_tenn['numberOfFilesScanned_Count']/1000).astype(float)\n",
    "df_tenn['uniqPodCount_Count'] = (df_tenn['uniqPodCount_Count']*100).astype(float)\n",
    "df_tenn.dtypes\n",
    "fig = px.area(df_tenn, x='ts', y=df_tenn.columns[2:7], log_y=False, title=customer_name)\n",
    "fig.show()\n",
    "df_tenn.corr(numeric_only=True)\n",
    "df_tenn.head()"
   ]
  },
  {
   "cell_type": "code",
   "execution_count": null,
   "metadata": {},
   "outputs": [],
   "source": [
    "## Run Aggregations\n",
    "df_aggr = df_cons.groupby(['ds','tenant','pod']).agg({'dataScannedInGB': 'sum', 'processingTimeinHrs':'sum'})\n",
    "df_aggr['AvgDataInGBperdayByDw']=df_aggr.dataScannedInGB*24/df_aggr.processingTimeinHrs\n",
    "df_aggr = df_aggr.add_suffix('_Count').reset_index()\n",
    "df_aggr.describe(percentiles=[0.25, 0.75])"
   ]
  },
  {
   "cell_type": "code",
   "execution_count": null,
   "metadata": {},
   "outputs": [],
   "source": [
    "## Create Plots\n",
    "df_aggr = df_cons.groupby(['ds','tenant','pod']).agg({'dataScannedInGB': 'sum', 'processingTimeinHrs':'sum'})\n",
    "df_aggr['AvgDataInGBperdayByDw']=df_aggr.dataScannedInGB*24/df_aggr.processingTimeinHrs\n",
    "df_aggr = df_aggr.add_suffix('_Count').reset_index()\n",
    "fig = px.box(df_aggr, x='ds', y='AvgDataInGBperdayByDw_Count', color='ds', points=False, log_y=True)\n",
    "fig.update_layout(\n",
    "    font=dict(family=\"Didact Gothic\"),\n",
    "    yaxis_title=\"<b>GB/day/dw<b>\",\n",
    "    xaxis_title=\"<b>fileFormat<b>\",\n",
    "    title_x=0.5,\n",
    "    title_font=dict(size=24,color='black'),\n",
    "    plot_bgcolor='rgba(0, 0, 0, 0)', #'white',  \n",
    "    paper_bgcolor='rgba(0, 0, 0, 0)', #'white',\n",
    "    width=1200,  \n",
    "    height=900\n",
    ")\n",
    "fig.update_traces(quartilemethod=\"exclusive\")\n",
    "fig.update_yaxes(nticks=10, minor=dict(showgrid=True, gridwidth=2, gridcolor='Black'))\n",
    "fig.show()"
   ]
  }
 ],
 "metadata": {
  "kernelspec": {
   "display_name": "Python 3 (ipykernel)",
   "language": "python",
   "name": "python3"
  },
  "language_info": {
   "codemirror_mode": {
    "name": "ipython",
    "version": 3
   },
   "file_extension": ".py",
   "mimetype": "text/x-python",
   "name": "python",
   "nbconvert_exporter": "python",
   "pygments_lexer": "ipython3",
   "version": "3.12.4"
  }
 },
 "nbformat": 4,
 "nbformat_minor": 4
}
