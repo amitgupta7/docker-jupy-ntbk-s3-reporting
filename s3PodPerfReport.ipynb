{
 "cells": [
  {
   "cell_type": "code",
   "execution_count": null,
   "metadata": {},
   "outputs": [],
   "source": [
    "## Load Dataframe\n",
    "import pandas as pd\n",
    "pd.options.mode.chained_assignment = None\n",
    "import os\n",
    "\n",
    "df_arr = []\n",
    "root = \".dataDir\"\n",
    "for path, subdirs, files in os.walk(root):\n",
    "    for name in files:\n",
    "        df = pd.read_csv(os.path.join(path, name))\n",
    "        df_arr.append(df)\n",
    "\n",
    "df_cons = pd.concat(df_arr, ignore_index=True)\n",
    "df_cons['ts'] = pd.to_datetime(df_cons['ts'],unit='ms')\n",
    "\n",
    "display(df_cons)"
   ]
  },
  {
   "cell_type": "code",
   "execution_count": null,
   "metadata": {},
   "outputs": [],
   "source": [
    "## create tenant specific timeseriesplots\n",
    "import plotly.express as px\n",
    "from plotly.subplots import make_subplots\n",
    "\n",
    "## Filters on tenant and date\n",
    "customer_name='exl'\n",
    "df_tenant = df_cons[(df_cons['tenant'].str.contains(customer_name, regex=False) & df_cons['ts'].between('2024-7-5', '2024-7-11'))]\n",
    "dateStr = str(df_tenant['ts'].min())+' and '+str(df_tenant['ts'].min())\n",
    "\n",
    "df_app=df_tenant.groupby(['fileFormat']).agg({'dataScannedInGB': 'sum', 'processingTimeinHrs':'sum'}).add_suffix('_Count').reset_index()\n",
    "df_app['scanSpeedinGBperDay']=df_app.dataScannedInGB_Count*24/df_app.processingTimeinHrs_Count\n",
    "df_app.sort_values('scanSpeedinGBperDay',inplace=True)\n",
    "fig3 = px.bar(df_app, y='fileFormat', x='scanSpeedinGBperDay', log_x=True, orientation='h', title='Unstructured ScanSpeed by FileFormat between '+dateStr+ ' for '+customer_name)\n",
    "fig3.show()\n",
    "\n",
    "df_tenn = df_tenant.groupby(['ts', 'tenant']).agg({'dataScannedInGB': 'sum', 'numberOfFilesScanned':'sum','IdleTimeInHrs':'sum', 'processingTimeinHrs':'sum', 'uniqPodCount':'mean'}).add_suffix('_Count').reset_index()\n",
    "df_tenn['ts'] = pd.to_datetime(df_tenn['ts'],unit='ms')\n",
    "df_tenn['numberOfFilesScanned_Count'] = (df_tenn['numberOfFilesScanned_Count']/1000).astype(float)\n",
    "df_tenn['processingTimeinHrs_Count'] = (df_tenn['processingTimeinHrs_Count']/24).astype(float)\n",
    "df_tenn['IdleTimeInHrs_Count'] = (df_tenn['IdleTimeInHrs_Count']/24).astype(float)\n",
    "df_tenn['uniqPodCount_Count'] = (df_tenn['uniqPodCount_Count']).astype(float)\n",
    "df_tenn.rename(columns={'dataScannedInGB_Count':\"dataScannedInGB\", 'processingTimeinHrs_Count': 'processingTimeinDays', 'IdleTimeInHrs_Count':'IdleTimeInDays', 'numberOfFilesScanned_Count':'numberOfFilesScanned(x1000)'}, inplace=True)\n",
    "\n",
    "subfig = make_subplots(specs=[[{\"secondary_y\": True}]])\n",
    "fig = px.bar(df_tenn, x='ts', y=df_tenn.columns[2:6], log_y=True, title=customer_name)\n",
    "fig2 = px.line(df_tenn, x='ts', y='uniqPodCount_Count')\n",
    "fig2.update_traces(yaxis=\"y2\",showlegend=True,name='uniqDWCount_avg')\n",
    "subfig.add_traces(fig.data + fig2.data)\n",
    "subfig.layout.yaxis2.title=\"dw-count\"\n",
    "subfig.layout.yaxis.title=\"GB\"\n",
    "subfig.layout.title='Unstructured Scan performance between '+dateStr+' for '+customer_name\n",
    "subfig.show()\n",
    "\n"
   ]
  },
  {
   "cell_type": "code",
   "execution_count": null,
   "metadata": {},
   "outputs": [],
   "source": [
    "## Run Aggregations\n",
    "top_n = int(15)\n",
    "df_aggr = df_cons.groupby(['tenant']).agg({'dataScannedInGB': 'sum', 'processingTimeinHrs':'sum'})\n",
    "df_aggr['AvgDataInGBperdayByDw']=df_aggr.dataScannedInGB*24/df_aggr.processingTimeinHrs\n",
    "df_aggr = df_aggr.add_suffix('_Count').reset_index()\n",
    "df_aggr.sort_values('dataScannedInGB_Count',inplace=True)\n",
    "df_aggr['dataScannedinTib']=(df_aggr['dataScannedInGB_Count']/1000).astype(float)\n",
    "fig4 = px.bar(df_aggr.tail(top_n), y='tenant', x='dataScannedinTib',orientation='h', title='top '+str(top_n)+' customer by datavolume scanned')\n",
    "fig4.show()\n",
    "df_aggr.describe(percentiles=[0.25, 0.75])"
   ]
  },
  {
   "cell_type": "code",
   "execution_count": null,
   "metadata": {},
   "outputs": [],
   "source": [
    "## Create Plots\n",
    "df_aggr = df_cons.groupby(['ds','tenant','pod']).agg({'dataScannedInGB': 'sum', 'processingTimeinHrs':'sum'})\n",
    "df_aggr['AvgDataInGBperdayByDw']=df_aggr.dataScannedInGB*24/df_aggr.processingTimeinHrs\n",
    "df_aggr = df_aggr.add_suffix('_Count').reset_index()\n",
    "fig = px.box(df_aggr, x='ds', y='AvgDataInGBperdayByDw_Count', color='ds', points=False, log_y=True)\n",
    "fig.update_layout(\n",
    "    font=dict(family=\"Didact Gothic\"),\n",
    "    yaxis_title=\"<b>GB/day/dw<b>\",\n",
    "    xaxis_title=\"<b>fileFormat<b>\",\n",
    "    title_x=0.5,\n",
    "    title_font=dict(size=24,color='black'),\n",
    "    plot_bgcolor='rgba(0, 0, 0, 0)', #'white',  \n",
    "    paper_bgcolor='rgba(0, 0, 0, 0)', #'white',\n",
    "    width=1200,  \n",
    "    height=900\n",
    ")\n",
    "fig.update_traces(quartilemethod=\"exclusive\")\n",
    "fig.update_yaxes(nticks=10, minor=dict(showgrid=True, gridwidth=2, gridcolor='Black'))\n",
    "fig.show()"
   ]
  }
 ],
 "metadata": {
  "kernelspec": {
   "display_name": "Python 3 (ipykernel)",
   "language": "python",
   "name": "python3"
  },
  "language_info": {
   "codemirror_mode": {
    "name": "ipython",
    "version": 3
   },
   "file_extension": ".py",
   "mimetype": "text/x-python",
   "name": "python",
   "nbconvert_exporter": "python",
   "pygments_lexer": "ipython3",
   "version": "3.12.4"
  }
 },
 "nbformat": 4,
 "nbformat_minor": 4
}
