{
 "cells": [
  {
   "cell_type": "code",
   "execution_count": 1,
   "metadata": {},
   "outputs": [],
   "source": [
    "import pandas as pd\n",
    "import dataframeLoader as dfl\n",
    "import plotly\n",
    "\n",
    "root = '.dataDir'\n",
    "## load timeseries data from CSV files\n",
    "df10 = dfl.loadStrucDataFromFileRegex(root, 'STRUCTURED-*.csv')\n",
    "# metricsArr = ['cpu_used', 'download_workers_count', 'memory_used', 'task_queue_length', 'infra_access_latency', 'pod_cpu_usage', 'pod_memory_usage']    \n",
    "metricsArr = ['cpu_used','task_queue_length', 'memory_used']\n",
    "df = dfl.loadPrometheusDataFromFileRegex(root, 'securiti_appliance_', metricsArr, '.csv')\n",
    "df9 = dfl.loadUnstrucDataFromFileRegex(root, 'UNSTRUCTURED-*.csv')\n",
    "df = pd.concat([df, df9, df10], ignore_index=True)\n",
    "\n",
    "display(df)"
   ]
  },
  {
   "cell_type": "code",
   "execution_count": null,
   "metadata": {
    "scrolled": true
   },
   "outputs": [],
   "source": [
    "## Generate top performing appliances between time-period.\n",
    "fromDt = '2024-08-05'\n",
    "toDt = '2024-09-09'\n",
    "df10 = dfl.loadDataFrameFromFileRegex(root, 'UNSTRUCTURED-*.csv', metrics='dataScanned')\n",
    "df10['ts']=pd.to_datetime(df10['ts'],unit='ms')\n",
    "df10 = df10[(df10['ts'] >= fromDt) & (df10['ts'] <= toDt) ]\n",
    "df10 = df10.groupby(['tenant', 'pod']).agg(dataScanned=('dataScannedInGB', 'sum')).reset_index()\n",
    "df10 = df10.sort_values('dataScanned', ascending=False)\n",
    "display(df10.head(20))\n"
   ]
  },
  {
   "cell_type": "code",
   "execution_count": 15,
   "metadata": {},
   "outputs": [],
   "source": [
    "## Generate timeseries fascet graph for an appliance_id\n",
    "from importlib import reload \n",
    "import dataframeLoader as dfl\n",
    "import plotly.io as pio\n",
    "pio.renderers.default = 'browser'\n",
    "reload(dfl)\n",
    "\n",
    "cat_order = [\n",
    "            \"dataScannedinGB\",\n",
    "            \"numberOfColsScanned\", \"numberOfChunksScanned\", \n",
    "             \"scanTime\", \"uniqPodCount\",\n",
    "             \"numFilesScanned\", \"avgFileSizeInMB\", \"IdleTimeInHrs\",\n",
    "             \"cpu_used_avg\", \"memory_used_avg\",\n",
    "             \"tmp_taskq_avg\", \"taskq_max\"\n",
    "             ]\n",
    "appliance_id='58e98e10-1b19-4c84-93c0-db2ad5903b80'\n",
    "from_dt='2024-08-15'\n",
    "to_dt = '2024-10-15'\n",
    "title = 'Appliance plot for appliance_id '+appliance_id+' between '+from_dt+' and '+to_dt\n",
    "dfp = df[(df['appliance_id'] == appliance_id) \n",
    "         & (df['metrics'].isin(cat_order))\n",
    "         & ((df['ts'] >= from_dt) & (df['ts'] <= to_dt))\n",
    "         ].drop_duplicates()\n",
    "fig  = dfl.plotMetricsFacetForApplianceId(dfp, title, {\"metrics\": cat_order})\n",
    "# fig.update_yaxes(type=\"log\")\n",
    "fig.update_layout(plot_bgcolor=\"black\")\n",
    "fig.show()"
   ]
  }
 ],
 "metadata": {
  "kernelspec": {
   "display_name": "Python 3 (ipykernel)",
   "language": "python",
   "name": "python3"
  },
  "language_info": {
   "codemirror_mode": {
    "name": "ipython",
    "version": 3
   },
   "file_extension": ".py",
   "mimetype": "text/x-python",
   "name": "python",
   "nbconvert_exporter": "python",
   "pygments_lexer": "ipython3",
   "version": "3.12.4"
  }
 },
 "nbformat": 4,
 "nbformat_minor": 4
}
