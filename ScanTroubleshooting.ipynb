{
 "cells": [
  {
   "cell_type": "code",
   "execution_count": null,
   "metadata": {},
   "outputs": [],
   "source": [
    "import pandas as pd\n",
    "import dataframeLoader as dfl\n",
    "import plotly\n",
    "\n",
    "root = '.dataDir'\n",
    "## load timeseries data from CSV files\n",
    "df10 = dfl.loadStrucDataFromFileRegex(root, 'STRUCTURED-*.csv')\n",
    "df = dfl.loadPrometheusDataFromFileRegex(root, 'securiti_appliance_', '.csv')\n",
    "df9 = dfl.loadUnstrucDataFromFileRegex(root, 'UNSTRUCTURED-*.csv')\n",
    "\n",
    "df = pd.concat([df, df9, df10], ignore_index=True)\n",
    "\n",
    "display(df)"
   ]
  },
  {
   "cell_type": "code",
   "execution_count": null,
   "metadata": {
    "scrolled": true
   },
   "outputs": [],
   "source": [
    "## Generate top performing appliances between time-period.\n",
    "fromDt = '2024-08-05'\n",
    "toDt = '2024-09-09'\n",
    "df10 = dfl.loadDataFrameFromFileRegex(root, 'UNSTRUCTURED-*.csv', metrics='dataScanned')\n",
    "df10['ts']=pd.to_datetime(df10['ts'],unit='ms')\n",
    "df10 = df10[(df10['ts'] >= fromDt) & (df10['ts'] <= toDt) ]\n",
    "df10 = df10.groupby(['tenant', 'pod']).agg(dataScanned=('dataScannedInGB', 'sum')).reset_index()\n",
    "df10 = df10.sort_values('dataScanned', ascending=False)\n",
    "display(df10.head(20))\n"
   ]
  },
  {
   "cell_type": "code",
   "execution_count": 15,
   "metadata": {},
   "outputs": [],
   "source": [
    "# from pathlib import Path\n",
    "# Path(\"appliancePlots\").mkdir(parents=True, exist_ok=True)\n",
    "# for tenant, appliance in df10.head(20).iterrows():\n",
    "#     ttl = appliance.tenant+'-'+appliance.pod\n",
    "#     ## Generate timeseries fascet graph. \n",
    "#     plotly.offline.plot(dfl.plotMetricsFacetForApplianceId(df, appliance.pod, fromDt, toDt, ttl), filename='appliancePlots/'+ttl+'.html')"
   ]
  },
  {
   "cell_type": "code",
   "execution_count": null,
   "metadata": {},
   "outputs": [],
   "source": [
    "## Generate timeseries fascet graph for an appliance_id\n",
    "fig  = dfl.plotMetricsFacetForApplianceId(df, '58e98e10-1b19-4c84-93c0-db2ad5903b80', '2024-08-05', '2024-09-09', \"Cluster 58e98e10-1b19-4c84-93c0-db2ad5903b80\")\n",
    "# fig.update_yaxes(type=\"log\")\n",
    "fig.show()"
   ]
  }
 ],
 "metadata": {
  "kernelspec": {
   "display_name": "Python 3 (ipykernel)",
   "language": "python",
   "name": "python3"
  },
  "language_info": {
   "codemirror_mode": {
    "name": "ipython",
    "version": 3
   },
   "file_extension": ".py",
   "mimetype": "text/x-python",
   "name": "python",
   "nbconvert_exporter": "python",
   "pygments_lexer": "ipython3",
   "version": "3.12.4"
  }
 },
 "nbformat": 4,
 "nbformat_minor": 4
}
