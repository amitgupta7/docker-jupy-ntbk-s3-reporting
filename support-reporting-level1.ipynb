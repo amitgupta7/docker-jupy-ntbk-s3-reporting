{
 "cells": [
  {
   "cell_type": "code",
   "execution_count": null,
   "metadata": {},
   "outputs": [],
   "source": [
    "import dataframeLoader as dfl\n",
    "import pandas as pd\n",
    "\n",
    "from importlib import reload \n",
    "reload(dfl)\n",
    "\n",
    "root = '.dataDir'\n",
    "appliance_id='396254dc-3d6c-45e8-8a2b-0fd8d956a704'\n",
    "fromDt = '2024-09-26'\n",
    "toDt = '2024-10-03'\n",
    "\n",
    "# metricsArr = ['cpu_used', 'download_workers_count', 'memory_used', 'task_queue_length', 'infra_access_latency', 'pod_cpu_usage', 'pod_memory_usage'] \n",
    "metricsArr = ['cpu_used','task_queue_length', 'memory_used']\n",
    "daterange=[fromDt, toDt]\n",
    "\n",
    "dfsp = dfl.loadConnectorDataFromFileRegex(root, 'SCANPROC-*.csv', daterange=daterange)\n",
    "dfst = dfl.loadStrucDataFromFileRegex(root, 'STRUCTURED-*.csv', daterange=daterange)\n",
    "df = dfl.loadPrometheusDataFromFileRegex(root, 'securiti_appliance_', metricsArr, '.csv', daterange=daterange)\n",
    "dfus = dfl.loadUnstrucDataFromFileRegex(root, 'UNSTRUCTURED-*.csv', daterange=daterange)\n",
    "df = pd.concat([df, dfus, dfst, dfsp], ignore_index=True)\n",
    "\n",
    "cat_order = [\n",
    "            \"dataScannedinGB\",\n",
    "            \"numberOfColsScanned\", \"numberOfChunksScanned\", \n",
    "             \"scanTime\", \"fileDownloadTimeInHrs\",\"uniqPodCount\",\n",
    "             \"numFilesScanned\", \"avgFileSizeInMB\", \"IdleTimeInHrs\",\n",
    "             \"cpu_used_avg\", \"memory_used_avg\",\n",
    "             \"tmp_taskq_avg\", \"taskq_max\"\n",
    "             ]\n",
    "\n",
    "title = 'Appliance plot for appliance_id '+appliance_id+' between '+fromDt+' and '+toDt\n",
    "dfp = df[(df['appliance_id'] == appliance_id) \n",
    "         & (df['metrics'].isin(cat_order))\n",
    "         & ((df['ts'] >= fromDt) & (df['ts'] <= toDt))\n",
    "         ].drop_duplicates()\n",
    "cat_order_overlap = sorted(set(cat_order).intersection(dfp.metrics.unique()),key=lambda x:cat_order.index(x))\n",
    "fig  = dfl.plotMetricsFacetForApplianceId(dfp, title, {\"metrics\": cat_order_overlap})\n",
    "fig.update_layout(plot_bgcolor=\"black\")\n",
    "fig.show()\n"
   ]
  }
 ],
 "metadata": {
  "kernelspec": {
   "display_name": "my-venv",
   "language": "python",
   "name": "python3"
  },
  "language_info": {
   "codemirror_mode": {
    "name": "ipython",
    "version": 3
   },
   "file_extension": ".py",
   "mimetype": "text/x-python",
   "name": "python",
   "nbconvert_exporter": "python",
   "pygments_lexer": "ipython3",
   "version": "3.12.4"
  }
 },
 "nbformat": 4,
 "nbformat_minor": 2
}
