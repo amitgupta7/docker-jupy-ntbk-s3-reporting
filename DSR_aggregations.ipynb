{
 "cells": [
  {
   "cell_type": "code",
   "execution_count": null,
   "id": "99f2432c-a4f6-400c-8f82-5e3e779148a8",
   "metadata": {},
   "outputs": [],
   "source": [
    "## Load Dataframe\n",
    "import pandas as pd\n",
    "import warnings\n",
    "import fnmatch\n",
    "import os\n",
    "\n",
    "pd.set_option('future.no_silent_downcasting', True)\n",
    "root = \"cookieScan\"\n",
    "def loadDataFrameFromFileRegex(root, regex):\n",
    "    df_arr = []\n",
    "    for path, subdirs, files in os.walk(root):\n",
    "        for name in files:\n",
    "            if fnmatch.fnmatch(name, regex) and os.path.getsize(os.path.join(path, name)) > 0:\n",
    "                # print(os.path.join(path, name))\n",
    "                df = pd.read_csv(os.path.join(path, name))\n",
    "                df_arr.append(df)\n",
    "    if not df_arr:\n",
    "        warnings.warn(\"No matching file found in \"+root+\" for regex: \"+regex+\". Empty dataframe will be returned.\" )\n",
    "        return pd.DataFrame()    \n",
    "    with warnings.catch_warnings():\n",
    "        warnings.filterwarnings(\"ignore\", category=FutureWarning)      \n",
    "        return pd.concat(df_arr, ignore_index=True)\n",
    "        \n",
    "df = loadDataFrameFromFileRegex(root, 'COOKIESCAN-*.csv')\n",
    "a = df['action'].unique()\n",
    "print(sorted(a))\n",
    "\n",
    "df = df.groupby(['tenant','domain', 'scan-id']).agg(first=('timestamp', 'min'),last=('timestamp', 'max')).reset_index()\n",
    "df = df.pivot(index=['tenant','dsr_ticket'], columns='action', values=['first','last']).reset_index()\n",
    "df.columns = [' '.join(col).strip() for col in df.columns.values]\n",
    "# display(df)\n",
    "\n",
    "df['created_date']=df[['first dsr-ticketcreate', 'first generic-dsr-response', 'first ticket_create_timeout', 'first dsr-taskgen']].min(axis=1)\n",
    "df['published_date']=df[['last dsr-bundle-complete-attachments', 'first dsr-ticket-draft-messages-deletion', 'last dsr-reject']].max(axis=1)\n",
    "df['Robotic Automation']=  ~pd.isna(df[['last dd_dsr_exec', 'last dsr-validation-task', \\\n",
    "                             'last generic-dsr-response', 'last dsr-file-scan-response', \\\n",
    "                             'last pd-attribute-update-request']].max(axis=1))\n",
    "\n",
    "df = df.dropna(subset=[ 'created_date', 'published_date', 'Robotic Automation'], how='all').reset_index()\n",
    "df = df[['tenant','dsr_ticket', 'created_date', 'published_date', 'Robotic Automation']]\n",
    "df['created_date']=(pd.to_datetime(df['created_date'],unit='ms')) \n",
    "df['published_date']=(pd.to_datetime(df['published_date'],unit='ms')) \n",
    "df.to_csv(\"dsr_report.csv\")\n",
    "display(df)"
   ]
  }
 ],
 "metadata": {
  "kernelspec": {
   "display_name": "Python 3 (ipykernel)",
   "language": "python",
   "name": "python3"
  },
  "language_info": {
   "codemirror_mode": {
    "name": "ipython",
    "version": 3
   },
   "file_extension": ".py",
   "mimetype": "text/x-python",
   "name": "python",
   "nbconvert_exporter": "python",
   "pygments_lexer": "ipython3",
   "version": "3.11.9"
  }
 },
 "nbformat": 4,
 "nbformat_minor": 5
}
