{
 "cells": [
  {
   "cell_type": "code",
   "execution_count": null,
   "id": "99f2432c-a4f6-400c-8f82-5e3e779148a8",
   "metadata": {},
   "outputs": [],
   "source": [
    "## Load Dataframe\n",
    "import pandas as pd\n",
    "import warnings\n",
    "import fnmatch\n",
    "import os\n",
    "\n",
    "pd.set_option('future.no_silent_downcasting', True)\n",
    "root = \"cookieScan\"\n",
    "def loadDataFrameFromFileRegex(root, regex):\n",
    "    df_arr = []\n",
    "    for path, subdirs, files in os.walk(root):\n",
    "        for name in files:\n",
    "            if fnmatch.fnmatch(name, regex) and os.path.getsize(os.path.join(path, name)) > 0:\n",
    "                # print(os.path.join(path, name))\n",
    "                df = pd.read_csv(os.path.join(path, name))\n",
    "                df_arr.append(df)\n",
    "    if not df_arr:\n",
    "        warnings.warn(\"No matching file found in \"+root+\" for regex: \"+regex+\". Empty dataframe will be returned.\" )\n",
    "        return pd.DataFrame()    \n",
    "    with warnings.catch_warnings():\n",
    "        warnings.filterwarnings(\"ignore\", category=FutureWarning)      \n",
    "        return pd.concat(df_arr, ignore_index=True)\n",
    "        \n",
    "df = loadDataFrameFromFileRegex(root, 'COOKIE*.csv')\n",
    "display(df)\n",
    "\n",
    "df = df.groupby(['tenant','domain', 'scan-id']).agg(first=('timestamp', 'min'),last=('timestamp', 'max'), count=('url-count', 'sum')).reset_index()\n",
    "df.to_csv(\"cookieScan_report.csv\")"
   ]
  }
 ],
 "metadata": {
  "kernelspec": {
   "display_name": "Python 3 (ipykernel)",
   "language": "python",
   "name": "python3"
  },
  "language_info": {
   "codemirror_mode": {
    "name": "ipython",
    "version": 3
   },
   "file_extension": ".py",
   "mimetype": "text/x-python",
   "name": "python",
   "nbconvert_exporter": "python",
   "pygments_lexer": "ipython3",
   "version": "3.11.9"
  }
 },
 "nbformat": 4,
 "nbformat_minor": 5
}
