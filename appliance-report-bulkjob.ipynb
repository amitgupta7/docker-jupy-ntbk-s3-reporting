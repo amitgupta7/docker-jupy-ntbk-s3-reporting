{
 "cells": [
  {
   "cell_type": "code",
   "execution_count": null,
   "metadata": {},
   "outputs": [],
   "source": [
    "import dataframeLoader as dfl\n",
    "import datetime as dt\n",
    "from dateutil.parser import parse\n",
    "from pathlib import Path\n",
    "\n",
    "import plotly\n",
    "import pandas as pd\n",
    "\n",
    "from importlib import reload \n",
    "reload(dfl)\n",
    "# generate daily reports for all appliances between the below dates\n",
    "root = '.dataDir'\n",
    "fromdt = parse('2024-10-07')\n",
    "todt = parse('2024-10-07')\n",
    "range = pd.date_range(fromdt,todt,freq='d')\n",
    "\n",
    "# metricsArr = ['cpu_used', 'download_workers_count', 'memory_used', 'task_queue_length', 'infra_access_latency', 'pod_cpu_usage', 'pod_memory_usage'] \n",
    "metricsArr = ['cpu_used','task_queue_length', 'memory_used']\n",
    "metrics_category_order = [\n",
    "            \"dataScannedinGB\",\n",
    "            \"numberOfColsScanned\", \"numberOfChunksScanned\", \n",
    "             \"scanTime\", \"fileDownloadTimeInHrs\",\"uniqPodCount\",\n",
    "             \"numFilesScanned\", \"avgFileSizeInMB\", \"IdleTimeInHrs\",\n",
    "             \"cpu_used_avg\", \"memory_used_avg\",\n",
    "             \"tmp_taskq_avg\", \"taskq_max\"\n",
    "             ]\n",
    "\n",
    "for rptDt in range:\n",
    "    datestr = rptDt.date().__str__()\n",
    "    daterange=[datestr, datestr]\n",
    "    df = dfl.loadApplianceTimeSeriesData(root, metricsArr, daterange)\n",
    "    for appliance in list(df.appliance_id.unique()):\n",
    "        title = 'Appliance plot for appliance_id '+appliance+' on '+datestr\n",
    "        dfp = df[(df['appliance_id'] == appliance)]\n",
    "        if len(set(dfp.metrics.unique()).intersection(metrics_category_order)) > 5:\n",
    "            dirPath='appliancePlots/'+appliance\n",
    "            Path(dirPath).mkdir(parents=True, exist_ok=True)\n",
    "            fig  = dfl.plotMetricsFacetForApplianceId(dfp, title, metrics_category_order)\n",
    "            plotly.offline.plot(fig, filename=dirPath+'/'+datestr+'.html', auto_open=False)\n"
   ]
  }
 ],
 "metadata": {
  "kernelspec": {
   "display_name": "my-venv",
   "language": "python",
   "name": "python3"
  },
  "language_info": {
   "codemirror_mode": {
    "name": "ipython",
    "version": 3
   },
   "file_extension": ".py",
   "mimetype": "text/x-python",
   "name": "python",
   "nbconvert_exporter": "python",
   "pygments_lexer": "ipython3",
   "version": "3.12.4"
  }
 },
 "nbformat": 4,
 "nbformat_minor": 2
}
