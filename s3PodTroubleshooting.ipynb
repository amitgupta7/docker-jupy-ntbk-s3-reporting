{
 "cells": [
  {
   "cell_type": "code",
   "execution_count": 2,
   "metadata": {},
   "outputs": [],
   "source": [
    "import pandas as pd\n",
    "df_unst = pd.read_csv('.dataDir/testData/UNSTRUCTURED-2024-07-08.csv')\n",
    "df_strc = pd.read_csv('.dataDir/testData/STRUCTURED-2024-07-08.csv')\n",
    "df_cpu = pd.read_csv('.dataDir/testData/securiti_appliance_cpu_used-2024-07-08.csv')\n",
    "df_dw = pd.read_csv('.dataDir/testData/securiti_appliance_download_workers_count-2024-07-08.csv')\n",
    "df_infra_lat=pd.read_csv('.dataDir/testData/securiti_appliance_infra_access_latency-2024-07-08.csv')\n",
    "df_mem=pd.read_csv('.dataDir/testData/securiti_appliance_memory_used-2024-07-08.csv')\n",
    "df_po_cpu=pd.read_csv('.dataDir/testData/securiti_appliance_pod_cpu_usage-2024-07-08.csv')\n",
    "df_po_mem=pd.read_csv('.dataDir/testData/securiti_appliance_pod_memory_usage-2024-07-08.csv')\n",
    "df_tsk_qlen=pd.read_csv('.dataDir/testData/securiti_appliance_task_queue_length-2024-07-08.csv')\n"
   ]
  },
  {
   "cell_type": "code",
   "execution_count": null,
   "metadata": {},
   "outputs": [],
   "source": [
    "df_unst.rename(columns={\"pod\":\"appliance_id\"}, inplace=True)\n",
    "df_strc.rename(columns={\"pod\":\"appliance_id\"}, inplace=True)\n",
    "df=df_unst.groupby(['tenant', 'appliance_id']).agg({'dataScannedInGB':'sum'}).add_suffix('_sum').reset_index()\n",
    "df.sort_values('dataScannedInGB_sum', inplace=True, ascending=False)\n",
    "display(df)"
   ]
  },
  {
   "cell_type": "code",
   "execution_count": null,
   "metadata": {},
   "outputs": [],
   "source": [
    "import plotly.express as px\n",
    "from plotly.subplots import make_subplots\n",
    "from functools import reduce\n",
    "\n",
    "\n",
    "def PlotScanPerformance(appliance_id, tenant_name):\n",
    "    df_unst_cust = df_unst[(df_unst['appliance_id'].str.contains(appliance_id, regex=False))].groupby(['ts', 'appliance_id']).agg({'dataScannedInGB':sum, 'processingTimeinHrs':'sum', 'numberOfFilesScanned':'sum'}).add_suffix('_Count').reset_index()\n",
    "\n",
    "    df_unst_cust['ts'] = pd.to_datetime(df_unst_cust['ts'],unit='ms')\n",
    "    dateStr = str(df_unst_cust['ts'].min())+' and '+str(df_unst_cust['ts'].max())\n",
    "\n",
    "    df_mem['ts']=pd.to_datetime(df_mem['ts'],unit='s')\n",
    "    df_tsk_qlen['ts']=pd.to_datetime(df_tsk_qlen['ts'],unit='s')\n",
    "    df_cpu['ts']=pd.to_datetime(df_cpu['ts'],unit='s')\n",
    "    df_dw['ts']=pd.to_datetime(df_dw['ts'],unit='s')\n",
    "    dw_app = df_dw[(df_dw['appliance_id'].str.contains(appliance_id, regex=False))].groupby(['appliance_id', 'ts']).agg({'value':'max'}).add_suffix('_dw').reset_index()\n",
    "    mem_app = df_mem[(df_mem['appliance_id'].str.contains(appliance_id, regex=False))].groupby(['appliance_id', 'ts']).agg({'value':'mean'}).add_suffix('_mem').reset_index()\n",
    "    cpu_app = df_cpu[(df_cpu['appliance_id'].str.contains(appliance_id, regex=False))].groupby(['appliance_id', 'ts']).agg({'value':'mean'}).add_suffix('_cpu').reset_index()\n",
    "    tsk_qlen_app = df_tsk_qlen[(df_tsk_qlen['appliance_id'].str.contains(appliance_id, regex=False)) & (df_tsk_qlen['metrics_name'].str.contains('securiti-appliance-downloader-tasks-queue', regex=False))].groupby(['appliance_id', 'ts']).agg({'value':'max'}).add_suffix('_taskQueue').reset_index()\n",
    "\n",
    "    dwn_qlen_app = df_tsk_qlen[(df_tsk_qlen['appliance_id'].str.contains(appliance_id, regex=False)) & (df_tsk_qlen['metrics_name'].str.contains('t-appliance-downloader-tasks-queue', regex=False))].groupby(['appliance_id', 'ts']).agg({'value':'max'}).add_suffix('_tempDownloadQueue').reset_index()\n",
    "\n",
    "    data_frames = [df_unst_cust, tsk_qlen_app, dwn_qlen_app, cpu_app, mem_app, dw_app]\n",
    "    df_merged = reduce(lambda  left,right: pd.merge(left,right,on=['appliance_id', 'ts'],\n",
    "                                            how='outer'), data_frames)\n",
    "    df_merged['value_dw(x0.1)'] = (df_merged['value_dw']*10).astype(float)\n",
    "    df_merged['tempDownloadQueue(x1000)'] = (df_merged['value_tempDownloadQueue']/1000).astype(float)\n",
    "    df_merged['numberOfFilesScanned(x1000)'] = (df_merged['numberOfFilesScanned_Count']/1000).astype(float)\n",
    "    subfig1 = make_subplots(specs=[[{\"secondary_y\": True}]])\n",
    "    fig1 = px.area(df_merged, x='ts', y=['dataScannedInGB_Count', 'processingTimeinHrs_Count', 'numberOfFilesScanned(x1000)', 'value_cpu', 'value_mem', 'value_dw(x0.1)'])\n",
    "    fig1.update_traces(yaxis=\"y1\",showlegend=True)\n",
    "\n",
    "    fig2 = px.line(df_merged, x='ts', y=['tempDownloadQueue(x1000)', 'value_taskQueue'])\n",
    "    fig2.update_traces(yaxis=\"y2\",showlegend=True)\n",
    "    subfig1.add_traces(fig1.data + fig2.data)\n",
    "    subfig1.layout.yaxis2.title=\"task_queue\"\n",
    "    subfig1.layout.yaxis.title=\"GB\"\n",
    "    subfig1.layout.title=appliance_id+'['+tenant_name+'] performance between '+dateStr\n",
    "    subfig1.layout.update(legend=dict(\n",
    "            orientation='h',\n",
    "    ))\n",
    "    subfig1.show()\n",
    "\n",
    "# PlotScanPerformance('408b37cf-7e71-4d8f-ad4b-c6496d0739d6')\n",
    "for index, row in df[(df['dataScannedInGB_sum'] > 50)].iterrows():\n",
    "    PlotScanPerformance(row['appliance_id'], row['tenant'])"
   ]
  }
 ],
 "metadata": {
  "kernelspec": {
   "display_name": "my-venv",
   "language": "python",
   "name": "python3"
  },
  "language_info": {
   "codemirror_mode": {
    "name": "ipython",
    "version": 3
   },
   "file_extension": ".py",
   "mimetype": "text/x-python",
   "name": "python",
   "nbconvert_exporter": "python",
   "pygments_lexer": "ipython3",
   "version": "3.12.4"
  }
 },
 "nbformat": 4,
 "nbformat_minor": 2
}
