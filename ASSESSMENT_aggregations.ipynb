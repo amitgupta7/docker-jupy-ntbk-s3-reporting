{
 "cells": [
  {
   "cell_type": "code",
   "execution_count": null,
   "id": "9758c777-a206-4125-9653-7bfdd7bdb861",
   "metadata": {},
   "outputs": [],
   "source": [
    "## Load Dataframe\n",
    "import pandas as pd\n",
    "import warnings\n",
    "import fnmatch\n",
    "import os\n",
    "\n",
    "pd.set_option('future.no_silent_downcasting', True)\n",
    "root = \"assmtData\"\n",
    "def loadDataFrameFromFileRegex(root, regex):\n",
    "    df_arr = []\n",
    "    for path, subdirs, files in os.walk(root):\n",
    "        for name in files:\n",
    "            if fnmatch.fnmatch(name, regex) and os.path.getsize(os.path.join(path, name)) > 0:\n",
    "                # print(os.path.join(path, name))\n",
    "                df = pd.read_csv(os.path.join(path, name))\n",
    "                df_arr.append(df)\n",
    "    if not df_arr:\n",
    "        warnings.warn(\"No matching file found in \"+root+\" for regex: \"+regex+\". Empty dataframe will be returned.\" )\n",
    "        return pd.DataFrame()    \n",
    "    with warnings.catch_warnings():\n",
    "        warnings.filterwarnings(\"ignore\", category=FutureWarning)      \n",
    "        return pd.concat(df_arr, ignore_index=True)\n",
    "        \n",
    "df = loadDataFrameFromFileRegex(root, 'ASSESS*.csv')\n",
    "a = df['action'].unique()\n",
    "print(a)\n",
    "# display(df[df['action'].isna()])\n",
    "\n",
    "\n",
    "df = df.groupby(['tenant','assessment_id', 'action']).agg(first=('timestamp', 'min'),last=('timestamp', 'max')).reset_index()\n",
    "df = df.pivot(index=['tenant','assessment_id'], columns='action', values=['first','last']).reset_index()\n",
    "df.columns = [' '.join(col).strip() for col in df.columns.values]\n",
    "# # display(df)\n",
    "\n",
    "df['created_date']=df[['first start', 'first start/v2']].min(axis=1)\n",
    "df['published_date']=df[['first /publish']]\n",
    "df['last_submit_date']=df[['last /submit_all']]\n",
    "df['last_review_date']=df[['last /review_all']]\n",
    "df['last_reassessment_date']=df[['last /reassessment/now']]\n",
    "\n",
    "\n",
    "df = df[['tenant','assessment_id','created_date', 'published_date', 'last_submit_date', 'last_review_date', 'last_reassessment_date']]\n",
    "df['created_date']=(pd.to_datetime(df['created_date'],unit='ms')) \n",
    "df['published_date']=(pd.to_datetime(df['published_date'],unit='ms')) \n",
    "\n",
    "df.to_csv(\"assmt_report.csv\")\n",
    "display(df)"
   ]
  }
 ],
 "metadata": {
  "kernelspec": {
   "display_name": "Python 3 (ipykernel)",
   "language": "python",
   "name": "python3"
  },
  "language_info": {
   "codemirror_mode": {
    "name": "ipython",
    "version": 3
   },
   "file_extension": ".py",
   "mimetype": "text/x-python",
   "name": "python",
   "nbconvert_exporter": "python",
   "pygments_lexer": "ipython3",
   "version": "3.11.9"
  }
 },
 "nbformat": 4,
 "nbformat_minor": 5
}
